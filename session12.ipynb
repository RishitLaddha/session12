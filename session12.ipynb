{
  "nbformat": 4,
  "nbformat_minor": 0,
  "metadata": {
    "colab": {
      "provenance": [],
      "authorship_tag": "ABX9TyPtwhfawAKTbsUhKt7dRdyd",
      "include_colab_link": true
    },
    "kernelspec": {
      "name": "python3",
      "display_name": "Python 3"
    },
    "language_info": {
      "name": "python"
    }
  },
  "cells": [
    {
      "cell_type": "markdown",
      "metadata": {
        "id": "view-in-github",
        "colab_type": "text"
      },
      "source": [
        "<a href=\"https://colab.research.google.com/github/RishitLaddha/session12/blob/main/session12.ipynb\" target=\"_parent\"><img src=\"https://colab.research.google.com/assets/colab-badge.svg\" alt=\"Open In Colab\"/></a>"
      ]
    },
    {
      "cell_type": "markdown",
      "source": [
        "# README.md"
      ],
      "metadata": {
        "id": "6EG3YPCTb_bf"
      }
    },
    {
      "cell_type": "markdown",
      "source": [
        "## # NYC Parking Ticket Data Analysis\n",
        "\n",
        "## Overview\n",
        "\n",
        "This program processes NYC parking ticket data stored in a CSV file and performs an analysis of violations based on vehicle make. Instead of loading the entire dataset at once, it uses a **lazy iterator** to read and process data efficiently. The CSV file is fetched from an online source using a URL.\n",
        "\n",
        "## Key Functionalities\n",
        "\n",
        "### 1. Lazy Iteration\n",
        "\n",
        "Instead of reading the entire CSV into memory, the program processes one row at a time using a **generator function**. This ensures efficient memory usage, especially for large datasets, by avoiding unnecessary memory consumption and allowing processing of very large files without performance issues.\n",
        "\n",
        "A **generator** in Python is a special type of function that returns an iterator and allows iteration over a sequence of data without storing it all in memory. This is achieved using the `yield` keyword. In this program, the `lazy_ticket_reader` function acts as a generator by yielding one row at a time as a `Ticket` named tuple.\n",
        "\n",
        "#### Example from the Code:\n",
        "\n",
        "- The `lazy_ticket_reader` function reads a CSV file from a URL.\n",
        "- It processes each row one at a time instead of loading the whole file into memory.\n",
        "- It uses `yield` to return each row as a `Ticket` named tuple.\n",
        "- This ensures that even if the dataset is huge, only one row is held in memory at a time.\n",
        "\n",
        "### 2. Data Storage Using Named Tuples\n",
        "\n",
        "Each row of the CSV file is stored as a **namedtuple** called `Ticket`. This data structure improves readability and structured data access, making it easier to reference specific attributes. The named tuple contains fields such as:\n",
        "- **Summons number**: A unique identifier for the ticket.\n",
        "- **Plate ID**: The license plate of the vehicle.\n",
        "- **Registration State**: The state where the vehicle is registered.\n",
        "- **Issue Date**: The date when the violation occurred.\n",
        "- **Vehicle Make**: The manufacturer of the vehicle.\n",
        "- **Violation Description**: A brief description of the violation.\n",
        "\n",
        "Using named tuples provides the benefits of both dictionaries and tuples—readability and immutability—while keeping memory usage low.\n",
        "\n",
        "### 3. Error Handling\n",
        "\n",
        "If a row contains **invalid data**, such as incorrect formatting or missing values, the program **skips the row** and prints an error message indicating the issue. This prevents the program from crashing due to corrupt or inconsistent data.\n",
        "\n",
        "- If a value cannot be converted to the expected type (e.g., `int` for summons number or violation code), an exception is caught, and the row is skipped.\n",
        "- This ensures that errors in data do not halt execution.\n",
        "\n",
        "### 4. Counting Violations\n",
        "\n",
        "The program iterates through the dataset and **counts the number of violations per vehicle make** using a dictionary. The dictionary structure allows for efficient aggregation of violation data. The results are then converted into a standard dictionary and returned as the final output.\n",
        "\n",
        "- The `count_violations_by_make` function uses a `defaultdict(int)` to initialize counts at zero.\n",
        "- Each ticket's vehicle make is used as a key, and the count is incremented.\n",
        "- Finally, the `defaultdict` is converted into a normal dictionary for easy readability.\n",
        "\n",
        "## Top 10 Vehicle Makes with Most Violations\n",
        "\n",
        "Below are the top 10 vehicle makes with the highest number of parking violations, as extracted from the final output of `session12.py` when executed:\n",
        "\n",
        "| Vehicle Make | Number of Violations |\n",
        "|-------------|---------------------|\n",
        "| TOYOT       | 112                 |\n",
        "| HONDA       | 106                 |\n",
        "| FORD        | 104                 |\n",
        "| CHEVR       | 76                  |\n",
        "| NISSA       | 70                  |\n",
        "| DODGE       | 45                  |\n",
        "| FRUEH       | 44                  |\n",
        "| ME/BE       | 38                  |\n",
        "| GMC         | 35                  |\n",
        "| HYUND       | 35                  |\n",
        "\n",
        "## Execution Flow\n",
        "\n",
        "1. The script starts by defining the CSV URL.\n",
        "2. The `lazy_ticket_reader` function reads and processes each row lazily.\n",
        "3. The `count_violations_by_make` function aggregates violations for each car make.\n",
        "4. The final results are printed as a dictionary.\n",
        "\n",
        "## Advantages of This Approach\n",
        "\n",
        "- **Memory Efficiency**: Reads data one row at a time, reducing memory usage.\n",
        "- **Improved Data Structure**: Using `namedtuple` makes accessing attributes intuitive.\n",
        "- **Resilient to Errors**: Skips problematic rows without interrupting execution.\n",
        "- **Web Compatibility**: Fetches data from a URL, making it accessible without local storage.\n",
        "\n",
        "## Possible Enhancements\n",
        "\n",
        "- Adding a function to filter violations by year.\n",
        "- Storing results in a database for further analysis.\n",
        "- Visualizing the data using graphs or charts.\n",
        "- Allowing users to input a custom CSV file URL instead of a hardcoded one.\n",
        "\n",
        "## Conclusion\n",
        "\n",
        "This script provides a **lightweight, efficient, and scalable solution** for processing NYC parking ticket data. By leveraging lazy iteration, structured data storage, and robust error handling, it ensures smooth execution even for large datasets.\n",
        "\n"
      ],
      "metadata": {
        "id": "8MFPynJZb_ZJ"
      }
    },
    {
      "cell_type": "markdown",
      "source": [
        "# session12.py\n"
      ],
      "metadata": {
        "id": "Qz67r2Hbb_Fq"
      }
    },
    {
      "cell_type": "code",
      "execution_count": 1,
      "metadata": {
        "colab": {
          "base_uri": "https://localhost:8080/"
        },
        "id": "iSF0P-5AbyyC",
        "outputId": "9dc57b6f-3b51-4773-8107-30268eeda544"
      },
      "outputs": [
        {
          "output_type": "stream",
          "name": "stdout",
          "text": [
            "{'BMW': 34, 'CHEVR': 76, 'DODGE': 45, 'FORD': 104, 'FRUEH': 44, 'HONDA': 106, 'LINCO': 12, 'TOYOT': 112, 'CADIL': 9, 'CHRYS': 12, 'FIR': 1, 'GMC': 35, 'HYUND': 35, 'JAGUA': 3, 'JEEP': 22, 'LEXUS': 26, 'ME/BE': 38, 'MERCU': 4, 'MITSU': 11, 'NISSA': 70, 'HIN': 6, 'NS/OT': 18, 'WORKH': 2, 'ACURA': 12, 'AUDI': 12, 'INTER': 25, 'ISUZU': 10, 'KENWO': 5, 'KIA': 8, 'OLDSM': 1, 'SUBAR': 18, 'VOLVO': 12, 'SATUR': 2, 'SMART': 3, 'INFIN': 13, 'PETER': 1, '': 5, 'CITRO': 1, 'ROVER': 5, 'BUICK': 5, 'GEO': 1, 'MAZDA': 5, 'PORSC': 3, 'VOLKS': 8, 'YAMAH': 1, 'BSA': 1, 'MINI': 1, 'PONTI': 1, 'SPRI': 1, 'PLYMO': 1, 'SCION': 2, 'UPS': 1, 'FIAT': 1, 'UD': 1, 'UTILI': 1, 'GMCQ': 1, 'SAAB': 2, 'HINO': 2, 'STAR': 1, 'AM/T': 1, 'MI/F': 1}\n"
          ]
        }
      ],
      "source": [
        "import csv\n",
        "import requests\n",
        "import io\n",
        "from collections import namedtuple, defaultdict\n",
        "from datetime import datetime\n",
        "\n",
        "# Define NamedTuple\n",
        "Ticket = namedtuple(\"Ticket\", [\"summons_number\", \"plate_id\", \"registration_state\",\n",
        "                               \"plate_type\", \"issue_date\", \"violation_code\",\n",
        "                               \"vehicle_body_type\", \"vehicle_make\", \"violation_description\"])\n",
        "\n",
        "# GitHub raw file link\n",
        "CSV_URL = \"https://raw.githubusercontent.com/RishitLaddha/session12/main/nyc_parking_tickets_extract-1.csv\"\n",
        "\n",
        "def lazy_ticket_reader(url):\n",
        "    \"\"\"Read CSV lazily from a URL.\"\"\"\n",
        "    response = requests.get(url)\n",
        "    response.raise_for_status()  # Raise error if request fails\n",
        "    file = io.StringIO(response.text)\n",
        "\n",
        "    reader = csv.reader(file)\n",
        "    headers = next(reader)  # Skip headers\n",
        "\n",
        "    for row in reader:\n",
        "        try:\n",
        "            yield Ticket(\n",
        "                summons_number=int(row[0]),\n",
        "                plate_id=row[1],\n",
        "                registration_state=row[2],\n",
        "                plate_type=row[3],\n",
        "                issue_date=datetime.strptime(row[4], \"%m/%d/%Y\").date(),\n",
        "                violation_code=int(row[5]),\n",
        "                vehicle_body_type=row[6],\n",
        "                vehicle_make=row[7],\n",
        "                violation_description=row[8],\n",
        "            )\n",
        "        except ValueError as e:\n",
        "            print(f\"Skipping row due to error: {e}\")\n",
        "\n",
        "def count_violations_by_make(url):\n",
        "    \"\"\"Count violations lazily from the CSV URL.\"\"\"\n",
        "    violation_counts = defaultdict(int)\n",
        "    for ticket in lazy_ticket_reader(url):\n",
        "        violation_counts[ticket.vehicle_make] += 1\n",
        "    return dict(violation_counts)\n",
        "\n",
        "if __name__ == \"__main__\":\n",
        "    violations_by_make = count_violations_by_make(CSV_URL)\n",
        "    print(violations_by_make)"
      ]
    }
  ]
}